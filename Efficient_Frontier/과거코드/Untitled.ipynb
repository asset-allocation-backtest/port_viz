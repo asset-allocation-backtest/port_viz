{
 "cells": [
  {
   "cell_type": "code",
   "execution_count": 1,
   "id": "39fa84b1",
   "metadata": {},
   "outputs": [],
   "source": [
    "# 일단은 필요한 라이브러리들 import부터 ㄱㄱ!\n",
    "import numpy as np\n",
    "import pandas as pd\n",
    "import matplotlib.pyplot as plt\n",
    "from tqdm import tqdm\n",
    "import os"
   ]
  },
  {
   "cell_type": "code",
   "execution_count": 2,
   "id": "c9126b45",
   "metadata": {},
   "outputs": [],
   "source": [
    "# 가격 데이터 불러올 종목코드와 종목명들\n",
    "symbols = {'005930':'samsung', '005380':'hyundai', '030200':'KT'}"
   ]
  },
  {
   "cell_type": "code",
   "execution_count": 3,
   "id": "bc93e400",
   "metadata": {},
   "outputs": [],
   "source": [
    "# 개인적으로 만든 코드뭉치인데....\n",
    "import porfolio_vis as pv"
   ]
  },
  {
   "cell_type": "code",
   "execution_count": 4,
   "id": "59fd4b18-3e42-4c1b-a2bc-5a2880b9d3d0",
   "metadata": {},
   "outputs": [
    {
     "name": "stderr",
     "output_type": "stream",
     "text": [
      "100%|██████████| 3/3 [00:01<00:00,  2.83it/s]\n"
     ]
    }
   ],
   "source": [
    "data = pd.DataFrame()\n",
    "for sym in tqdm(symbols.keys()):\n",
    "    data[symbols[sym]] = pv.get_data.get_naver_close(sym)[sym]"
   ]
  },
  {
   "cell_type": "code",
   "execution_count": 5,
   "id": "5269d0ac-c3c6-4cde-b3b3-94af08c9558d",
   "metadata": {},
   "outputs": [
    {
     "data": {
      "text/html": [
       "<div>\n",
       "<style scoped>\n",
       "    .dataframe tbody tr th:only-of-type {\n",
       "        vertical-align: middle;\n",
       "    }\n",
       "\n",
       "    .dataframe tbody tr th {\n",
       "        vertical-align: top;\n",
       "    }\n",
       "\n",
       "    .dataframe thead th {\n",
       "        text-align: right;\n",
       "    }\n",
       "</style>\n",
       "<table border=\"1\" class=\"dataframe\">\n",
       "  <thead>\n",
       "    <tr style=\"text-align: right;\">\n",
       "      <th></th>\n",
       "      <th>samsung</th>\n",
       "      <th>hyundai</th>\n",
       "      <th>KT</th>\n",
       "    </tr>\n",
       "    <tr>\n",
       "      <th>date</th>\n",
       "      <th></th>\n",
       "      <th></th>\n",
       "      <th></th>\n",
       "    </tr>\n",
       "  </thead>\n",
       "  <tbody>\n",
       "    <tr>\n",
       "      <th>2005-06-02</th>\n",
       "      <td>9750.0</td>\n",
       "      <td>57000.0</td>\n",
       "      <td>40900.0</td>\n",
       "    </tr>\n",
       "    <tr>\n",
       "      <th>2005-06-03</th>\n",
       "      <td>9760.0</td>\n",
       "      <td>57400.0</td>\n",
       "      <td>40800.0</td>\n",
       "    </tr>\n",
       "    <tr>\n",
       "      <th>2005-06-07</th>\n",
       "      <td>9610.0</td>\n",
       "      <td>56800.0</td>\n",
       "      <td>41000.0</td>\n",
       "    </tr>\n",
       "    <tr>\n",
       "      <th>2005-06-08</th>\n",
       "      <td>9550.0</td>\n",
       "      <td>57000.0</td>\n",
       "      <td>41100.0</td>\n",
       "    </tr>\n",
       "    <tr>\n",
       "      <th>2005-06-09</th>\n",
       "      <td>9600.0</td>\n",
       "      <td>57300.0</td>\n",
       "      <td>41800.0</td>\n",
       "    </tr>\n",
       "    <tr>\n",
       "      <th>...</th>\n",
       "      <td>...</td>\n",
       "      <td>...</td>\n",
       "      <td>...</td>\n",
       "    </tr>\n",
       "    <tr>\n",
       "      <th>2021-07-26</th>\n",
       "      <td>78800.0</td>\n",
       "      <td>224500.0</td>\n",
       "      <td>33600.0</td>\n",
       "    </tr>\n",
       "    <tr>\n",
       "      <th>2021-07-27</th>\n",
       "      <td>78500.0</td>\n",
       "      <td>225000.0</td>\n",
       "      <td>33250.0</td>\n",
       "    </tr>\n",
       "    <tr>\n",
       "      <th>2021-07-28</th>\n",
       "      <td>79200.0</td>\n",
       "      <td>222500.0</td>\n",
       "      <td>33800.0</td>\n",
       "    </tr>\n",
       "    <tr>\n",
       "      <th>2021-07-29</th>\n",
       "      <td>79000.0</td>\n",
       "      <td>222000.0</td>\n",
       "      <td>33800.0</td>\n",
       "    </tr>\n",
       "    <tr>\n",
       "      <th>2021-07-30</th>\n",
       "      <td>78500.0</td>\n",
       "      <td>218000.0</td>\n",
       "      <td>33800.0</td>\n",
       "    </tr>\n",
       "  </tbody>\n",
       "</table>\n",
       "<p>4000 rows × 3 columns</p>\n",
       "</div>"
      ],
      "text/plain": [
       "            samsung   hyundai       KT\n",
       "date                                  \n",
       "2005-06-02   9750.0   57000.0  40900.0\n",
       "2005-06-03   9760.0   57400.0  40800.0\n",
       "2005-06-07   9610.0   56800.0  41000.0\n",
       "2005-06-08   9550.0   57000.0  41100.0\n",
       "2005-06-09   9600.0   57300.0  41800.0\n",
       "...             ...       ...      ...\n",
       "2021-07-26  78800.0  224500.0  33600.0\n",
       "2021-07-27  78500.0  225000.0  33250.0\n",
       "2021-07-28  79200.0  222500.0  33800.0\n",
       "2021-07-29  79000.0  222000.0  33800.0\n",
       "2021-07-30  78500.0  218000.0  33800.0\n",
       "\n",
       "[4000 rows x 3 columns]"
      ]
     },
     "execution_count": 5,
     "metadata": {},
     "output_type": "execute_result"
    }
   ],
   "source": [
    "data"
   ]
  },
  {
   "cell_type": "code",
   "execution_count": 6,
   "id": "7948b60d-ca3f-4650-a4a8-83cc9cf9890f",
   "metadata": {},
   "outputs": [
    {
     "data": {
      "text/html": [
       "<div>\n",
       "<style scoped>\n",
       "    .dataframe tbody tr th:only-of-type {\n",
       "        vertical-align: middle;\n",
       "    }\n",
       "\n",
       "    .dataframe tbody tr th {\n",
       "        vertical-align: top;\n",
       "    }\n",
       "\n",
       "    .dataframe thead th {\n",
       "        text-align: right;\n",
       "    }\n",
       "</style>\n",
       "<table border=\"1\" class=\"dataframe\">\n",
       "  <thead>\n",
       "    <tr style=\"text-align: right;\">\n",
       "      <th></th>\n",
       "      <th>samsung</th>\n",
       "      <th>hyundai</th>\n",
       "      <th>KT</th>\n",
       "    </tr>\n",
       "    <tr>\n",
       "      <th>date</th>\n",
       "      <th></th>\n",
       "      <th></th>\n",
       "      <th></th>\n",
       "    </tr>\n",
       "  </thead>\n",
       "  <tbody>\n",
       "    <tr>\n",
       "      <th>2020-01-02</th>\n",
       "      <td>55200.0</td>\n",
       "      <td>118000.0</td>\n",
       "      <td>26700.0</td>\n",
       "    </tr>\n",
       "    <tr>\n",
       "      <th>2020-01-03</th>\n",
       "      <td>55500.0</td>\n",
       "      <td>116000.0</td>\n",
       "      <td>26600.0</td>\n",
       "    </tr>\n",
       "    <tr>\n",
       "      <th>2020-01-06</th>\n",
       "      <td>55500.0</td>\n",
       "      <td>116000.0</td>\n",
       "      <td>26400.0</td>\n",
       "    </tr>\n",
       "    <tr>\n",
       "      <th>2020-01-07</th>\n",
       "      <td>55800.0</td>\n",
       "      <td>115500.0</td>\n",
       "      <td>26550.0</td>\n",
       "    </tr>\n",
       "    <tr>\n",
       "      <th>2020-01-08</th>\n",
       "      <td>56800.0</td>\n",
       "      <td>112000.0</td>\n",
       "      <td>26150.0</td>\n",
       "    </tr>\n",
       "    <tr>\n",
       "      <th>...</th>\n",
       "      <td>...</td>\n",
       "      <td>...</td>\n",
       "      <td>...</td>\n",
       "    </tr>\n",
       "    <tr>\n",
       "      <th>2021-07-26</th>\n",
       "      <td>78800.0</td>\n",
       "      <td>224500.0</td>\n",
       "      <td>33600.0</td>\n",
       "    </tr>\n",
       "    <tr>\n",
       "      <th>2021-07-27</th>\n",
       "      <td>78500.0</td>\n",
       "      <td>225000.0</td>\n",
       "      <td>33250.0</td>\n",
       "    </tr>\n",
       "    <tr>\n",
       "      <th>2021-07-28</th>\n",
       "      <td>79200.0</td>\n",
       "      <td>222500.0</td>\n",
       "      <td>33800.0</td>\n",
       "    </tr>\n",
       "    <tr>\n",
       "      <th>2021-07-29</th>\n",
       "      <td>79000.0</td>\n",
       "      <td>222000.0</td>\n",
       "      <td>33800.0</td>\n",
       "    </tr>\n",
       "    <tr>\n",
       "      <th>2021-07-30</th>\n",
       "      <td>78500.0</td>\n",
       "      <td>218000.0</td>\n",
       "      <td>33800.0</td>\n",
       "    </tr>\n",
       "  </tbody>\n",
       "</table>\n",
       "<p>393 rows × 3 columns</p>\n",
       "</div>"
      ],
      "text/plain": [
       "            samsung   hyundai       KT\n",
       "date                                  \n",
       "2020-01-02  55200.0  118000.0  26700.0\n",
       "2020-01-03  55500.0  116000.0  26600.0\n",
       "2020-01-06  55500.0  116000.0  26400.0\n",
       "2020-01-07  55800.0  115500.0  26550.0\n",
       "2020-01-08  56800.0  112000.0  26150.0\n",
       "...             ...       ...      ...\n",
       "2021-07-26  78800.0  224500.0  33600.0\n",
       "2021-07-27  78500.0  225000.0  33250.0\n",
       "2021-07-28  79200.0  222500.0  33800.0\n",
       "2021-07-29  79000.0  222000.0  33800.0\n",
       "2021-07-30  78500.0  218000.0  33800.0\n",
       "\n",
       "[393 rows x 3 columns]"
      ]
     },
     "execution_count": 6,
     "metadata": {},
     "output_type": "execute_result"
    }
   ],
   "source": [
    "data_2020 = data[data.index >= '2020-01-01']\n",
    "data_2020"
   ]
  },
  {
   "cell_type": "code",
   "execution_count": 7,
   "id": "ad5a5f01-6648-40a9-8363-ddbf90e701b5",
   "metadata": {},
   "outputs": [
    {
     "data": {
      "text/html": [
       "<div>\n",
       "<style scoped>\n",
       "    .dataframe tbody tr th:only-of-type {\n",
       "        vertical-align: middle;\n",
       "    }\n",
       "\n",
       "    .dataframe tbody tr th {\n",
       "        vertical-align: top;\n",
       "    }\n",
       "\n",
       "    .dataframe thead th {\n",
       "        text-align: right;\n",
       "    }\n",
       "</style>\n",
       "<table border=\"1\" class=\"dataframe\">\n",
       "  <thead>\n",
       "    <tr style=\"text-align: right;\">\n",
       "      <th></th>\n",
       "      <th>samsung</th>\n",
       "      <th>hyundai</th>\n",
       "      <th>KT</th>\n",
       "    </tr>\n",
       "    <tr>\n",
       "      <th>date</th>\n",
       "      <th></th>\n",
       "      <th></th>\n",
       "      <th></th>\n",
       "    </tr>\n",
       "  </thead>\n",
       "  <tbody>\n",
       "    <tr>\n",
       "      <th>2020-01-02</th>\n",
       "      <td>NaN</td>\n",
       "      <td>NaN</td>\n",
       "      <td>NaN</td>\n",
       "    </tr>\n",
       "    <tr>\n",
       "      <th>2020-01-03</th>\n",
       "      <td>0.005420</td>\n",
       "      <td>-0.017094</td>\n",
       "      <td>-0.003752</td>\n",
       "    </tr>\n",
       "    <tr>\n",
       "      <th>2020-01-06</th>\n",
       "      <td>0.000000</td>\n",
       "      <td>0.000000</td>\n",
       "      <td>-0.007547</td>\n",
       "    </tr>\n",
       "    <tr>\n",
       "      <th>2020-01-07</th>\n",
       "      <td>0.005391</td>\n",
       "      <td>-0.004320</td>\n",
       "      <td>0.005666</td>\n",
       "    </tr>\n",
       "    <tr>\n",
       "      <th>2020-01-08</th>\n",
       "      <td>0.017762</td>\n",
       "      <td>-0.030772</td>\n",
       "      <td>-0.015181</td>\n",
       "    </tr>\n",
       "    <tr>\n",
       "      <th>...</th>\n",
       "      <td>...</td>\n",
       "      <td>...</td>\n",
       "      <td>...</td>\n",
       "    </tr>\n",
       "    <tr>\n",
       "      <th>2021-07-26</th>\n",
       "      <td>-0.006325</td>\n",
       "      <td>-0.004444</td>\n",
       "      <td>-0.032214</td>\n",
       "    </tr>\n",
       "    <tr>\n",
       "      <th>2021-07-27</th>\n",
       "      <td>-0.003814</td>\n",
       "      <td>0.002225</td>\n",
       "      <td>-0.010471</td>\n",
       "    </tr>\n",
       "    <tr>\n",
       "      <th>2021-07-28</th>\n",
       "      <td>0.008878</td>\n",
       "      <td>-0.011173</td>\n",
       "      <td>0.016406</td>\n",
       "    </tr>\n",
       "    <tr>\n",
       "      <th>2021-07-29</th>\n",
       "      <td>-0.002528</td>\n",
       "      <td>-0.002250</td>\n",
       "      <td>0.000000</td>\n",
       "    </tr>\n",
       "    <tr>\n",
       "      <th>2021-07-30</th>\n",
       "      <td>-0.006349</td>\n",
       "      <td>-0.018182</td>\n",
       "      <td>0.000000</td>\n",
       "    </tr>\n",
       "  </tbody>\n",
       "</table>\n",
       "<p>393 rows × 3 columns</p>\n",
       "</div>"
      ],
      "text/plain": [
       "             samsung   hyundai        KT\n",
       "date                                    \n",
       "2020-01-02       NaN       NaN       NaN\n",
       "2020-01-03  0.005420 -0.017094 -0.003752\n",
       "2020-01-06  0.000000  0.000000 -0.007547\n",
       "2020-01-07  0.005391 -0.004320  0.005666\n",
       "2020-01-08  0.017762 -0.030772 -0.015181\n",
       "...              ...       ...       ...\n",
       "2021-07-26 -0.006325 -0.004444 -0.032214\n",
       "2021-07-27 -0.003814  0.002225 -0.010471\n",
       "2021-07-28  0.008878 -0.011173  0.016406\n",
       "2021-07-29 -0.002528 -0.002250  0.000000\n",
       "2021-07-30 -0.006349 -0.018182  0.000000\n",
       "\n",
       "[393 rows x 3 columns]"
      ]
     },
     "execution_count": 7,
     "metadata": {},
     "output_type": "execute_result"
    }
   ],
   "source": [
    "rets = np.log(data_2020.pct_change()+1)\n",
    "rets"
   ]
  },
  {
   "cell_type": "code",
   "execution_count": 8,
   "id": "95222b36-ea2f-48b1-9fcb-580f7f02d4de",
   "metadata": {},
   "outputs": [
    {
     "data": {
      "text/plain": [
       "array([0.10635451, 0.41423932, 0.47940617])"
      ]
     },
     "execution_count": 8,
     "metadata": {},
     "output_type": "execute_result"
    }
   ],
   "source": [
    "weights = np.random.random(len(symbols))\n",
    "weights = weights / np.sum(weights)             # weights = weights / np.sum(weights) 이런계산을 한 것\n",
    "weights"
   ]
  },
  {
   "cell_type": "code",
   "execution_count": 9,
   "id": "f100823c-0ff5-4c36-9bc6-32c0d4478493",
   "metadata": {},
   "outputs": [
    {
     "data": {
      "text/plain": [
       "samsung    0.000096\n",
       "hyundai    0.000649\n",
       "KT         0.000288\n",
       "dtype: float64"
      ]
     },
     "execution_count": 9,
     "metadata": {},
     "output_type": "execute_result"
    }
   ],
   "source": [
    "rets.mean()*weights"
   ]
  },
  {
   "cell_type": "code",
   "execution_count": 10,
   "id": "ff7e3552-dd2a-40d5-9208-9bcd3f06e3df",
   "metadata": {},
   "outputs": [
    {
     "data": {
      "text/plain": [
       "0.2602017555051053"
      ]
     },
     "execution_count": 10,
     "metadata": {},
     "output_type": "execute_result"
    }
   ],
   "source": [
    "mu = np.sum(rets.mean() * weights) * 252                        # 포트폴리오 (연율화) 수익률의 합\n",
    "mu    "
   ]
  },
  {
   "cell_type": "code",
   "execution_count": 11,
   "id": "afba211e-3d47-4a9f-a1c4-aa7d3abefa52",
   "metadata": {},
   "outputs": [
    {
     "data": {
      "text/plain": [
       "0.018060215854170798"
      ]
     },
     "execution_count": 11,
     "metadata": {},
     "output_type": "execute_result"
    }
   ],
   "source": [
    "square_sigma = np.dot(weights.T, np.dot(rets.cov(), weights))   # 포트폴리오 분산\n",
    "sigma = np.sqrt(square_sigma)\n",
    "sigma"
   ]
  },
  {
   "cell_type": "code",
   "execution_count": 12,
   "id": "d9261efa-d902-4396-a458-27c366aca9fd",
   "metadata": {},
   "outputs": [],
   "source": [
    "prets = []\n",
    "pvols = []\n",
    "for p in range(2500):\n",
    "    weights = np.random.random(len(symbols))\n",
    "    weights = weights / np.sum(weights)\n",
    "    prets.append(np.sum(rets.mean() * weights) * 252)\n",
    "    pvols.append(np.sqrt(np.dot(weights.T, np.dot(rets.cov() * 252, weights))))\n",
    "prets = np.array(prets)\n",
    "pvols = np.array(pvols)"
   ]
  },
  {
   "cell_type": "code",
   "execution_count": 13,
   "id": "c8e932cd-d471-4299-85e1-52c5bf1a87bc",
   "metadata": {},
   "outputs": [
    {
     "data": {
      "text/plain": [
       "array([0.28417627, 0.21102191, 0.32439761, ..., 0.28427799, 0.21517431,\n",
       "       0.25626507])"
      ]
     },
     "execution_count": 13,
     "metadata": {},
     "output_type": "execute_result"
    }
   ],
   "source": [
    "prets"
   ]
  },
  {
   "cell_type": "code",
   "execution_count": 14,
   "id": "828b6b00-9be5-4c3b-883d-e1d9cca0d3a2",
   "metadata": {},
   "outputs": [
    {
     "data": {
      "text/plain": [
       "array([0.30422627, 0.24637305, 0.35448875, ..., 0.30788014, 0.25916276,\n",
       "       0.28554001])"
      ]
     },
     "execution_count": 14,
     "metadata": {},
     "output_type": "execute_result"
    }
   ],
   "source": [
    "pvols"
   ]
  },
  {
   "cell_type": "code",
   "execution_count": 15,
   "id": "1fce71c9-fedd-4d18-bbd9-0bcf8fd4a726",
   "metadata": {},
   "outputs": [
    {
     "data": {
      "image/png": "[encoded data removed]",
      "text/plain": [
       "<Figure size 720x432 with 2 Axes>"
      ]
     },
     "metadata": {
      "needs_background": "light"
     },
     "output_type": "display_data"
    }
   ],
   "source": [
    "plt.figure(figsize=(10, 6))\n",
    "plt.scatter(pvols, prets, c=prets/pvols, marker='.')\n",
    "plt.grid(True)\n",
    "plt.xlabel('expected volatility')\n",
    "plt.ylabel('expected return')\n",
    "plt.title('Samsung-Hyundai-KT Portfolio')\n",
    "plt.colorbar(label='sharpe ratio')   \n",
    "plt.show()"
   ]
  },
  {
   "cell_type": "code",
   "execution_count": null,
   "id": "edc07f49-b97e-4409-828e-23d69256b2bc",
   "metadata": {},
   "outputs": [],
   "source": []
  },
  {
   "cell_type": "code",
   "execution_count": null,
   "id": "061e85bf-a9e7-4bb7-922d-b5e56c9c80ea",
   "metadata": {},
   "outputs": [],
   "source": []
  },
  {
   "cell_type": "code",
   "execution_count": null,
   "id": "6b34c9ea-e6ca-43f2-ad87-5e2a3784a6e6",
   "metadata": {},
   "outputs": [],
   "source": []
  }
 ],
 "metadata": {
  "kernelspec": {
   "display_name": "Python 3",
   "language": "python",
   "name": "python3"
  },
  "language_info": {
   "codemirror_mode": {
    "name": "ipython",
    "version": 3
   },
   "file_extension": ".py",
   "mimetype": "text/x-python",
   "name": "python",
   "nbconvert_exporter": "python",
   "pygments_lexer": "ipython3",
   "version": "3.8.8"
  }
 },
 "nbformat": 4,
 "nbformat_minor": 5
}
